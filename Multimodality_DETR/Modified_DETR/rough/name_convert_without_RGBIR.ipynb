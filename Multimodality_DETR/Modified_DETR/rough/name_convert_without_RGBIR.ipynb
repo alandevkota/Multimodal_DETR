{
 "cells": [
  {
   "cell_type": "code",
   "execution_count": 1,
   "metadata": {},
   "outputs": [],
   "source": [
    "#*****************************visible************************\n",
    "import os\n",
    "import shutil\n",
    "\n",
    "# Define the root directory\n",
    "# root_dir = r\"C:\\Users\\aland\\Downloads\\kaist-cvpr15\\images\"\n",
    "root_dir = \"/data/Singlemodality_DETR_V1/kaist-cvpr15/images/\"\n",
    "\n",
    "# Iterate over all directories and subdirectories\n",
    "for dirpath, dirnames, filenames in os.walk(root_dir):\n",
    "    # Check if the current directory is 'visible'\n",
    "    if os.path.basename(dirpath) == 'visible':\n",
    "        # Iterate over all files in the directory\n",
    "        for filename in filenames:\n",
    "            # Check if the file is an image\n",
    "            if filename.endswith('.jpg'):\n",
    "                # Construct the old and new file paths\n",
    "                old_file = os.path.join(dirpath, filename)\n",
    "                # Extract the needed directories from the path\n",
    "                dirs = dirpath.split(os.sep)[-3:-1]\n",
    "                # Construct the new filename\n",
    "                new_filename = '_'.join(dirs) + '_' + filename\n",
    "                new_file = os.path.join(dirpath, new_filename)\n",
    "                # Rename the file\n",
    "                shutil.move(old_file, new_file)\n"
   ]
  },
  {
   "cell_type": "code",
   "execution_count": 1,
   "metadata": {},
   "outputs": [],
   "source": [
    "#*****************************Rough_ with rgb************************\n",
    "#*****************************visible************************\n",
    "import os\n",
    "import shutil\n",
    "\n",
    "# Define the root directory\n",
    "# root_dir = r\"C:\\Users\\aland\\Downloads\\kaist-cvpr15\\images\"\n",
    "root_dir = \"/data/Singlemodality_DETR_V1/kaist-cvpr15/images/\"\n",
    "\n",
    "# Iterate over all directories and subdirectories\n",
    "for dirpath, dirnames, filenames in os.walk(root_dir):\n",
    "    # Check if the current directory is 'visible'\n",
    "    if os.path.basename(dirpath) == 'visible':\n",
    "        # Iterate over all files in the directory\n",
    "        for filename in filenames:\n",
    "            # Check if the file is an image\n",
    "            if filename.endswith('.jpg'):\n",
    "                # Construct the old and new file paths\n",
    "                old_file = os.path.join(dirpath, filename)\n",
    "                # Extract the needed directories from the path\n",
    "                dirs = dirpath.split(os.sep)[-3:]\n",
    "                # Construct the new filename\n",
    "                new_filename = '_'.join(dirs) + '_' + filename\n",
    "                new_file = os.path.join(dirpath, new_filename)\n",
    "                # Rename the file\n",
    "                shutil.move(old_file, new_file)\n"
   ]
  },
  {
   "cell_type": "code",
   "execution_count": 2,
   "metadata": {},
   "outputs": [],
   "source": [
    "#*****************************lwir************************\n",
    "import os\n",
    "import shutil\n",
    "\n",
    "# Define the root directory\n",
    "# root_dir = r\"C:\\Users\\aland\\Downloads\\kaist-cvpr15\\images\"\n",
    "root_dir = \"/data/Singlemodality_DETR_V1/kaist-cvpr15/images/\"\n",
    "\n",
    "# Iterate over all directories and subdirectories\n",
    "for dirpath, dirnames, filenames in os.walk(root_dir):\n",
    "    # Check if the current directory is 'lwir'\n",
    "    if os.path.basename(dirpath) == 'lwir':\n",
    "        # Iterate over all files in the directory\n",
    "        for filename in filenames:\n",
    "            # Check if the file is an image\n",
    "            if filename.endswith('.jpg'):\n",
    "                # Construct the old and new file paths\n",
    "                old_file = os.path.join(dirpath, filename)\n",
    "                # Extract the needed directories from the path\n",
    "                dirs = dirpath.split(os.sep)[-3:-1]\n",
    "                # Construct the new filename\n",
    "                new_filename = '_'.join(dirs) + '_' + filename\n",
    "                new_file = os.path.join(dirpath, new_filename)\n",
    "                # Rename the file\n",
    "                shutil.move(old_file, new_file)\n"
   ]
  },
  {
   "cell_type": "code",
   "execution_count": 2,
   "metadata": {},
   "outputs": [],
   "source": [
    "#*****************************Rough_ with lwir************************\n",
    "#*****************************lwir************************\n",
    "import os\n",
    "import shutil\n",
    "\n",
    "# Define the root directory\n",
    "# root_dir = r\"C:\\Users\\aland\\Downloads\\kaist-cvpr15\\images\"\n",
    "root_dir = \"/data/Singlemodality_DETR_V1/kaist-cvpr15/images/\"\n",
    "\n",
    "# Iterate over all directories and subdirectories\n",
    "for dirpath, dirnames, filenames in os.walk(root_dir):\n",
    "    # Check if the current directory is 'lwir'\n",
    "    if os.path.basename(dirpath) == 'lwir':\n",
    "        # Iterate over all files in the directory\n",
    "        for filename in filenames:\n",
    "            # Check if the file is an image\n",
    "            if filename.endswith('.jpg'):\n",
    "                # Construct the old and new file paths\n",
    "                old_file = os.path.join(dirpath, filename)\n",
    "                # Extract the needed directories from the path\n",
    "                dirs = dirpath.split(os.sep)[-3:]\n",
    "                # Construct the new filename\n",
    "                new_filename = '_'.join(dirs) + '_' + filename\n",
    "                new_file = os.path.join(dirpath, new_filename)\n",
    "                # Rename the file\n",
    "                shutil.move(old_file, new_file)\n"
   ]
  }
 ],
 "metadata": {
  "kernelspec": {
   "display_name": "Python 3",
   "language": "python",
   "name": "python3"
  },
  "language_info": {
   "codemirror_mode": {
    "name": "ipython",
    "version": 3
   },
   "file_extension": ".py",
   "mimetype": "text/x-python",
   "name": "python",
   "nbconvert_exporter": "python",
   "pygments_lexer": "ipython3",
   "version": "3.8.10"
  },
  "vscode": {
   "interpreter": {
    "hash": "767d51c1340bd893661ea55ea3124f6de3c7a262a8b4abca0554b478b1e2ff90"
   }
  }
 },
 "nbformat": 4,
 "nbformat_minor": 2
}
